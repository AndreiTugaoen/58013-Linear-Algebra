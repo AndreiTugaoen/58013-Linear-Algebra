{
  "nbformat": 4,
  "nbformat_minor": 0,
  "metadata": {
    "colab": {
      "provenance": []
    },
    "kernelspec": {
      "name": "python3",
      "display_name": "Python 3"
    },
    "language_info": {
      "name": "python"
    }
  },
  "cells": [
    {
      "cell_type": "markdown",
      "source": [
        "Scalars"
      ],
      "metadata": {
        "id": "hFLGlz-Q4_Om"
      }
    },
    {
      "cell_type": "code",
      "execution_count": 1,
      "metadata": {
        "colab": {
          "base_uri": "https://localhost:8080/"
        },
        "id": "OIlunM1e449R",
        "outputId": "f6645cdc-5014-4008-b4b3-b3aca16ac8a5"
      },
      "outputs": [
        {
          "output_type": "execute_result",
          "data": {
            "text/plain": [
              "array(-0.5)"
            ]
          },
          "metadata": {},
          "execution_count": 1
        }
      ],
      "source": [
        "#Scalars are numerical entities that are represented by a single value.\n",
        "import numpy as np\n",
        "\n",
        "x = np.array(-0.5)\n",
        "x"
      ]
    },
    {
      "cell_type": "markdown",
      "source": [
        "Vectors"
      ],
      "metadata": {
        "id": "bI9eG-BH5OOl"
      }
    },
    {
      "cell_type": "code",
      "source": [
        "#Vectors are array of numerical values or scalars that would represent any feature space. Feature spaces or simply dimensions or the parameters of an equation or a function\n",
        "A = np.array([4,3])\n",
        "B = np.array([2, -5])\n",
        "\n",
        "print('Vector A is ', A)\n",
        "print('Vector B is ', B)"
      ],
      "metadata": {
        "colab": {
          "base_uri": "https://localhost:8080/"
        },
        "id": "aa8xwgrD5OUd",
        "outputId": "3dd53646-4aad-4d94-c7e3-25417f619574"
      },
      "execution_count": 2,
      "outputs": [
        {
          "output_type": "stream",
          "name": "stdout",
          "text": [
            "Vector A is  [4 3]\n",
            "Vector B is  [ 2 -5]\n"
          ]
        }
      ]
    },
    {
      "cell_type": "markdown",
      "source": [
        "Describing vectors in NumPy"
      ],
      "metadata": {
        "id": "eASDKv1t5WX1"
      }
    },
    {
      "cell_type": "code",
      "source": [
        "#Describing vectors is very important if we want to perform basic to advanced operations with them. The fundamental ways in describing vectors are knowing their shape, size and dimensions.\n",
        "import numpy as np\n",
        "\n",
        "### Checking shapes\n",
        "### Shapes tells us how many rows and columns are there\n",
        "ball1 = np.array([1,2,3])\n",
        "ball2 = np.array([0,1,-1])\n",
        "pool = np.array([J,K]) ## Matrix\n",
        "pool.shape\n",
        "\n",
        "U = np.array([\n",
        "    [1, 2],\n",
        "    [2, 3]\n",
        "])\n",
        "U.shape\n",
        "\n",
        "### Checking size\n",
        "### Array/Vector sizes tells us many total number of elements are there in the vector\n",
        "\n",
        "U.size\n",
        "\n",
        "### Checking dimensions\n",
        "### The dimensions or rank of a vector tells us how many dimensions are there for the vector.\n",
        "A.ndim\n",
        "\n",
        "pool.ndim"
      ],
      "metadata": {
        "colab": {
          "base_uri": "https://localhost:8080/"
        },
        "id": "JNoEGhDd5Wek",
        "outputId": "67db6aec-8886-422e-84a5-5847a835914e"
      },
      "execution_count": 6,
      "outputs": [
        {
          "output_type": "execute_result",
          "data": {
            "text/plain": [
              "2"
            ]
          },
          "metadata": {},
          "execution_count": 6
        }
      ]
    }
  ]
}