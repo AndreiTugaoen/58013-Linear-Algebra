{
  "nbformat": 4,
  "nbformat_minor": 0,
  "metadata": {
    "colab": {
      "provenance": [],
      "authorship_tag": "ABX9TyNtW527lRg2rnqSLsf82KGV",
      "include_colab_link": true
    },
    "kernelspec": {
      "name": "python3",
      "display_name": "Python 3"
    },
    "language_info": {
      "name": "python"
    }
  },
  "cells": [
    {
      "cell_type": "markdown",
      "metadata": {
        "id": "view-in-github",
        "colab_type": "text"
      },
      "source": [
        "<a href=\"https://colab.research.google.com/github/AndreiTugaoen/58013-Linear-Algebra/blob/main/Python_Exercise_4.ipynb\" target=\"_parent\"><img src=\"https://colab.research.google.com/assets/colab-badge.svg\" alt=\"Open In Colab\"/></a>"
      ]
    },
    {
      "cell_type": "code",
      "execution_count": 7,
      "metadata": {
        "colab": {
          "base_uri": "https://localhost:8080/"
        },
        "id": "RH_IWKY5_77i",
        "outputId": "163ae138-94b7-4ce1-910e-77d1232bea1e"
      },
      "outputs": [
        {
          "output_type": "stream",
          "name": "stdout",
          "text": [
            "Vector A:\n",
            " [[-0.4]\n",
            " [ 4.3]\n",
            " [-0.6]]\n",
            "\n",
            "Vector B:\n",
            " [[-0.2  0.2  0.1]]\n",
            "\n",
            "Vector C:\n",
            " [[-0.2  2.1 -1.5]]\n",
            "\n",
            "Vector Addition (A + B):\n",
            " [[-0.6 -0.2 -0.3]\n",
            " [ 4.1  4.5  4.4]\n",
            " [-0.8 -0.4 -0.5]]\n",
            "\n",
            "Vector Subriction (A - B):\n",
            " [[-0.2 -0.6 -0.5]\n",
            " [ 4.5  4.1  4.2]\n",
            " [-0.4 -0.8 -0.7]]\n",
            "\n",
            "Vector Dot Product (B . C):\n",
            " [[0.31]]\n",
            "\n",
            "Vector Cross Product (B x C):\n",
            " [[-0.51 -0.32 -0.38]]\n"
          ]
        }
      ],
      "source": [
        "import numpy as np\n",
        "\n",
        "\n",
        "A = np.array([[-0.4], [4.3], [-0.6]])\n",
        "B = np.array([[-0.2, 0.2, 0.1]])\n",
        "C = np.array([[-0.2, 2.1, -1.5]])\n",
        "\n",
        "\n",
        "add = A + B\n",
        "\n",
        "sub = A - B\n",
        "\n",
        "dotpro = np.dot(B, C.T)\n",
        "\n",
        "cross = np.cross(B, C)\n",
        "\n",
        "\n",
        "print(\"Vector A:\\n\", A)\n",
        "print(\"\\nVector B:\\n\", B)\n",
        "print(\"\\nVector C:\\n\", C)\n",
        "print(\"\\nVector Addition (A + B):\\n\", add)\n",
        "print(\"\\nVector Subriction (A - B):\\n\", sub)\n",
        "print(\"\\nVector Dot Product (B . C):\\n\", dotpro)\n",
        "print(\"\\nVector Cross Product (B x C):\\n\", cross)\n"
      ]
    }
  ]
}