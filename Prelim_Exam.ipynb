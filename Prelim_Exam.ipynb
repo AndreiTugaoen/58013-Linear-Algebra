{
  "nbformat": 4,
  "nbformat_minor": 0,
  "metadata": {
    "colab": {
      "provenance": [],
      "authorship_tag": "ABX9TyMuhBap6l9CVrHREVPIv2iE",
      "include_colab_link": true
    },
    "kernelspec": {
      "name": "python3",
      "display_name": "Python 3"
    },
    "language_info": {
      "name": "python"
    }
  },
  "cells": [
    {
      "cell_type": "markdown",
      "metadata": {
        "id": "view-in-github",
        "colab_type": "text"
      },
      "source": [
        "<a href=\"https://colab.research.google.com/github/AndreiTugaoen/58013-Linear-Algebra/blob/main/Prelim_Exam.ipynb\" target=\"_parent\"><img src=\"https://colab.research.google.com/assets/colab-badge.svg\" alt=\"Open In Colab\"/></a>"
      ]
    },
    {
      "cell_type": "code",
      "execution_count": 19,
      "metadata": {
        "colab": {
          "base_uri": "https://localhost:8080/"
        },
        "id": "q3L3x7Qotsgz",
        "outputId": "745b6534-0813-409e-ad39-e603d8b9a9c5"
      },
      "outputs": [
        {
          "output_type": "stream",
          "name": "stdout",
          "text": [
            " 1  2  3  4  5  6  7  8  9 10 \n",
            " 2  4  6  8 10 12 14 16 18 20 \n",
            " 3  6  9 12 15 18 21 24 27 30 \n",
            " 4  8 12 16 20 24 28 32 36 40 \n",
            " 5 10 15 20 25 30 35 40 45 50 \n",
            " 6 12 18 24 30 36 42 48 54 60 \n",
            " 7 14 21 28 35 42 49 56 63 70 \n",
            " 8 16 24 32 40 48 56 64 72 80 \n",
            " 9 18 27 36 45 54 63 72 81 90 \n",
            "10 20 30 40 50 60 70 80 90 100 \n"
          ]
        }
      ],
      "source": [
        "#Question 1. (20 points) Create a Multiplication Table/Chart of 1 to 10 using numpy/ python program.\n",
        "import numpy as np\n",
        "\n",
        "num = np.arange(1, 11)\n",
        "mul_table = np.outer(num, num)\n",
        "\n",
        "for row in mul_table:\n",
        "  for num in row:\n",
        "    print(f'{num:2}', end = \" \")\n",
        "  print()"
      ]
    },
    {
      "cell_type": "code",
      "source": [
        "#Question 2. (10 points) In relation to Question 1, show a solution that doubles all the values of each element.\n",
        "import numpy as np\n",
        "\n",
        "num = np.arange(1, 11)\n",
        "mul_table = np.outer(num, num) * 2\n",
        "\n",
        "for row in mul_table:\n",
        "  for num in row:\n",
        "    print(f'{num:3}', end = \" \")\n",
        "  print()"
      ],
      "metadata": {
        "colab": {
          "base_uri": "https://localhost:8080/"
        },
        "id": "5lbKndxqv5rn",
        "outputId": "fdb2a213-0492-4a47-f3e5-0db542b38444"
      },
      "execution_count": 26,
      "outputs": [
        {
          "output_type": "stream",
          "name": "stdout",
          "text": [
            "  2   4   6   8  10  12  14  16  18  20 \n",
            "  4   8  12  16  20  24  28  32  36  40 \n",
            "  6  12  18  24  30  36  42  48  54  60 \n",
            "  8  16  24  32  40  48  56  64  72  80 \n",
            " 10  20  30  40  50  60  70  80  90 100 \n",
            " 12  24  36  48  60  72  84  96 108 120 \n",
            " 14  28  42  56  70  84  98 112 126 140 \n",
            " 16  32  48  64  80  96 112 128 144 160 \n",
            " 18  36  54  72  90 108 126 144 162 180 \n",
            " 20  40  60  80 100 120 140 160 180 200 \n"
          ]
        }
      ]
    },
    {
      "cell_type": "code",
      "source": [
        "#Question 3. (10 points) Create a square matrix that has a diagonal 1's.\n",
        "\n",
        "import numpy as np\n",
        "\n",
        "matrix = 4\n",
        "\n",
        "ident_matrix = np.eye(matrix)\n",
        "print(ident_matrix)"
      ],
      "metadata": {
        "colab": {
          "base_uri": "https://localhost:8080/"
        },
        "id": "-oHYYo3bwioc",
        "outputId": "0be0bef0-7724-4d8b-dd88-70c7288bc695"
      },
      "execution_count": 10,
      "outputs": [
        {
          "output_type": "stream",
          "name": "stdout",
          "text": [
            "[[1. 0. 0. 0.]\n",
            " [0. 1. 0. 0.]\n",
            " [0. 0. 1. 0.]\n",
            " [0. 0. 0. 1.]]\n"
          ]
        }
      ]
    },
    {
      "cell_type": "code",
      "source": [
        "#Question 4. (30 points) Create a matrix whose elements are:\n",
        "import numpy as np\n",
        "\n",
        "matrix = np.array([[1, 2, 3, 4],\n",
        "                   [5, 6, 7, 8],\n",
        "                   [9, 10, 11, 12]])\n",
        "\n",
        "size = matrix.size\n",
        "shape = matrix.shape\n",
        "dimension = matrix.ndim\n",
        "\n",
        "print(\"Matirx: \")\n",
        "print(matrix)\n",
        "print(\"Size: \", size)\n",
        "print(\"Shape: \", shape)\n",
        "print(\"Dimension: \", dimension)"
      ],
      "metadata": {
        "colab": {
          "base_uri": "https://localhost:8080/"
        },
        "id": "yghdcbzBzGEr",
        "outputId": "c47b65b6-f155-4e99-effc-b55665e74ade"
      },
      "execution_count": 28,
      "outputs": [
        {
          "output_type": "stream",
          "name": "stdout",
          "text": [
            "Matirx: \n",
            "[[ 1  2  3  4]\n",
            " [ 5  6  7  8]\n",
            " [ 9 10 11 12]]\n",
            "Size:  12\n",
            "Shape:  (3, 4)\n",
            "Dimension:  2\n"
          ]
        }
      ]
    },
    {
      "cell_type": "code",
      "source": [
        "#Question 5. (30 points) Create a result array by adding the following two NumPy arrays. Next, modify the result array by calculating the square of each element.\n",
        "\n",
        "arrayOne = np.array([[5, 6, 9], [21, 18, 27]])\n",
        "arrayTwo = np.array([[15, 33, 24], [4, 7, 1]])\n",
        "\n",
        "sum = arrayOne + arrayTwo\n",
        "\n",
        "add_square = np.square(sum)\n",
        "\n",
        "print(\"The sum of the array is: \")\n",
        "print(sum)\n",
        "\n",
        "print(\"The square of the array is: \")\n",
        "print(add_square)"
      ],
      "metadata": {
        "colab": {
          "base_uri": "https://localhost:8080/"
        },
        "id": "AX6SmOMexZ9V",
        "outputId": "3115141a-55ef-487a-8ea2-4257a9a14247"
      },
      "execution_count": 17,
      "outputs": [
        {
          "output_type": "stream",
          "name": "stdout",
          "text": [
            "The sum of the array is: \n",
            "[[20 39 33]\n",
            " [25 25 28]]\n",
            "The square of the array is: \n",
            "[[ 400 1521 1089]\n",
            " [ 625  625  784]]\n"
          ]
        }
      ]
    }
  ]
}