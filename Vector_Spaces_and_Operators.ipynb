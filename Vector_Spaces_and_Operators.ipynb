{
  "nbformat": 4,
  "nbformat_minor": 0,
  "metadata": {
    "colab": {
      "provenance": [],
      "authorship_tag": "ABX9TyNcLjKQyTAnvk4apd/cZc8Y",
      "include_colab_link": true
    },
    "kernelspec": {
      "name": "python3",
      "display_name": "Python 3"
    },
    "language_info": {
      "name": "python"
    }
  },
  "cells": [
    {
      "cell_type": "markdown",
      "metadata": {
        "id": "view-in-github",
        "colab_type": "text"
      },
      "source": [
        "<a href=\"https://colab.research.google.com/github/AndreiTugaoen/58013-Linear-Algebra/blob/main/Vector_Spaces_and_Operators.ipynb\" target=\"_parent\"><img src=\"https://colab.research.google.com/assets/colab-badge.svg\" alt=\"Open In Colab\"/></a>"
      ]
    },
    {
      "cell_type": "markdown",
      "source": [
        "Vector"
      ],
      "metadata": {
        "id": "zn4NB3cSibBK"
      }
    },
    {
      "cell_type": "code",
      "execution_count": 1,
      "metadata": {
        "colab": {
          "base_uri": "https://localhost:8080/"
        },
        "id": "D6eyk1mDb3Nr",
        "outputId": "f2c4661a-a2e1-424c-e495-ef1f810c5ac8"
      },
      "outputs": [
        {
          "output_type": "stream",
          "name": "stdout",
          "text": [
            "Vector A is  [4 3]\n",
            "Vector B is  [ 2 -5]\n"
          ]
        }
      ],
      "source": [
        "import numpy as np\n",
        "\n",
        "A = np.array([4,3])\n",
        "B = np.array([2, -5])\n",
        "\n",
        "print('Vector A is ', A)\n",
        "print('Vector B is ', B)"
      ]
    },
    {
      "cell_type": "code",
      "source": [
        "### Checking shapes\n",
        "### Shapes tells us how many rows and columns are there\n",
        "import numpy as np\n",
        "\n",
        "ball1 = np.array([1,2,3])\n",
        "ball2 = np.array([0,1,-1])\n",
        "\n",
        "print(ball1)\n",
        "print(ball2)\n",
        "#ball = np.shape([[ball1], [ball2]])\n",
        "ball = np.shape(ball1)\n",
        "balls = np.shape(ball2)\n",
        "z = ball+balls\n",
        "\n",
        "print(z)\n",
        "x= np.ndim"
      ],
      "metadata": {
        "colab": {
          "base_uri": "https://localhost:8080/"
        },
        "id": "VQEavU_GjBOj",
        "outputId": "22c24def-d71d-4d4c-f278-be9f20d2a0b0"
      },
      "execution_count": 13,
      "outputs": [
        {
          "output_type": "stream",
          "name": "stdout",
          "text": [
            "[1 2 3]\n",
            "[ 0  1 -1]\n",
            "(3, 3)\n"
          ]
        }
      ]
    },
    {
      "cell_type": "markdown",
      "source": [
        "Spaces and Additions"
      ],
      "metadata": {
        "id": "6V0YGufDsJOE"
      }
    },
    {
      "cell_type": "code",
      "source": [
        "#Addition\n",
        "import numpy as np\n",
        "\n",
        "B = np.array([4,3])\n",
        "B = np.array([2, -5])\n",
        "R = A + B\n",
        "print(R)"
      ],
      "metadata": {
        "colab": {
          "base_uri": "https://localhost:8080/"
        },
        "id": "J2oUts8_sI6e",
        "outputId": "3f764183-5713-4560-9166-1bfd6517abe5"
      },
      "execution_count": 14,
      "outputs": [
        {
          "output_type": "stream",
          "name": "stdout",
          "text": [
            "[ 6 -2]\n"
          ]
        }
      ]
    },
    {
      "cell_type": "code",
      "source": [
        "#Substraction\n",
        "\n",
        "R1 = A - B\n",
        "print(R1)"
      ],
      "metadata": {
        "colab": {
          "base_uri": "https://localhost:8080/"
        },
        "id": "Z8pTcqIot5Ro",
        "outputId": "e7edd0a8-e8df-41b8-dbeb-1768332cc228"
      },
      "execution_count": 15,
      "outputs": [
        {
          "output_type": "stream",
          "name": "stdout",
          "text": [
            "[2 8]\n"
          ]
        }
      ]
    },
    {
      "cell_type": "code",
      "source": [
        "#Multiplication\n",
        "\n",
        "S = [2]\n",
        "R2 = S*A\n",
        "print(R2)"
      ],
      "metadata": {
        "colab": {
          "base_uri": "https://localhost:8080/"
        },
        "id": "whz2WWl2ukJP",
        "outputId": "4a451ba5-9f03-4e00-bc45-904f6f63c9e1"
      },
      "execution_count": 16,
      "outputs": [
        {
          "output_type": "stream",
          "name": "stdout",
          "text": [
            "[8 6]\n"
          ]
        }
      ]
    },
    {
      "cell_type": "code",
      "source": [
        "#Dot Product\n",
        "\n",
        "A = np.array([4, 3])\n",
        "B = np.array([[2], [-5]])\n",
        "\n",
        "R = np.multiply(A,B)\n",
        "print(R)"
      ],
      "metadata": {
        "colab": {
          "base_uri": "https://localhost:8080/"
        },
        "id": "kEVTmYX7vrKj",
        "outputId": "6edcfd66-ce38-4b44-a7a9-e8a31ad1c022"
      },
      "execution_count": 26,
      "outputs": [
        {
          "output_type": "stream",
          "name": "stdout",
          "text": [
            "[[  8   6]\n",
            " [-20 -15]]\n"
          ]
        }
      ]
    },
    {
      "cell_type": "code",
      "source": [
        "#Property of Matrix\n",
        "#indentity Matrix\n",
        "\n",
        "C = np.eye(3, 3)\n",
        "print(C)\n",
        "\n",
        "#Zero Matrix\n",
        "D = np.zeros([5, 5])\n",
        "print(D)\n",
        "\n",
        "E = np.full((3,3), 7)\n",
        "print(E)\n",
        "\n",
        "F = np.transpose(A)\n",
        "print(F)"
      ],
      "metadata": {
        "colab": {
          "base_uri": "https://localhost:8080/"
        },
        "id": "0RVvOwKjy1l7",
        "outputId": "4ae2e8c6-cca4-4ab0-f41a-030a2178fb5c"
      },
      "execution_count": 45,
      "outputs": [
        {
          "output_type": "stream",
          "name": "stdout",
          "text": [
            "[[1. 0. 0.]\n",
            " [0. 1. 0.]\n",
            " [0. 0. 1.]]\n",
            "[[0. 0. 0. 0. 0.]\n",
            " [0. 0. 0. 0. 0.]\n",
            " [0. 0. 0. 0. 0.]\n",
            " [0. 0. 0. 0. 0.]\n",
            " [0. 0. 0. 0. 0.]]\n",
            "[[7 7 7]\n",
            " [7 7 7]\n",
            " [7 7 7]]\n",
            "[4 3]\n"
          ]
        }
      ]
    },
    {
      "cell_type": "code",
      "source": [
        "#Transpose\n",
        "G = np.transpose(E)\n",
        "print(E)"
      ],
      "metadata": {
        "colab": {
          "base_uri": "https://localhost:8080/"
        },
        "id": "_HTeljF420us",
        "outputId": "11ae04fb-0bc7-4638-9c3f-a332e62719b1"
      },
      "execution_count": 46,
      "outputs": [
        {
          "output_type": "stream",
          "name": "stdout",
          "text": [
            "[[7 7 7]\n",
            " [7 7 7]\n",
            " [7 7 7]]\n"
          ]
        }
      ]
    }
  ]
}