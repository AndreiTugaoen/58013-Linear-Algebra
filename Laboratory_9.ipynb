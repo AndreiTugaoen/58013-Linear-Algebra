{
  "nbformat": 4,
  "nbformat_minor": 0,
  "metadata": {
    "colab": {
      "provenance": [],
      "authorship_tag": "ABX9TyNaxa7xMK5DA57H5FHJXSCP",
      "include_colab_link": true
    },
    "kernelspec": {
      "name": "python3",
      "display_name": "Python 3"
    },
    "language_info": {
      "name": "python"
    }
  },
  "cells": [
    {
      "cell_type": "markdown",
      "metadata": {
        "id": "view-in-github",
        "colab_type": "text"
      },
      "source": [
        "<a href=\"https://colab.research.google.com/github/AndreiTugaoen/58013-Linear-Algebra/blob/main/Laboratory_9.ipynb\" target=\"_parent\"><img src=\"https://colab.research.google.com/assets/colab-badge.svg\" alt=\"Open In Colab\"/></a>"
      ]
    },
    {
      "cell_type": "code",
      "execution_count": 1,
      "metadata": {
        "colab": {
          "base_uri": "https://localhost:8080/"
        },
        "id": "69XCfJu5ntPM",
        "outputId": "f469d37f-c611-4b4d-961a-78df66dcbcb1"
      },
      "outputs": [
        {
          "output_type": "execute_result",
          "data": {
            "text/plain": [
              "3.0000000000000004"
            ]
          },
          "metadata": {},
          "execution_count": 1
        }
      ],
      "source": [
        "import numpy as np\n",
        "\n",
        "A = np.array([\n",
        "              [1, 4],\n",
        "              [0, 3]])\n",
        "np.linalg.det(A)"
      ]
    },
    {
      "cell_type": "code",
      "source": [
        "import numpy as np\n",
        "\n",
        "B = np.array([\n",
        "              [1, 3, 5, 6],\n",
        "              [0, 3, 1, 3],\n",
        "              [3, 1, 8, 2],\n",
        "              [5, 2, 6, 8]])\n",
        "np.linalg.det(B)"
      ],
      "metadata": {
        "colab": {
          "base_uri": "https://localhost:8080/"
        },
        "id": "yM_S_jLEoDnp",
        "outputId": "a00fe8d6-168a-4638-dad0-952904ba4077"
      },
      "execution_count": 3,
      "outputs": [
        {
          "output_type": "execute_result",
          "data": {
            "text/plain": [
              "-235.0000000000002"
            ]
          },
          "metadata": {},
          "execution_count": 3
        }
      ]
    },
    {
      "cell_type": "markdown",
      "source": [
        "Associative Property"
      ],
      "metadata": {
        "id": "uVvemMynobgt"
      }
    },
    {
      "cell_type": "code",
      "source": [
        "import numpy as np\n",
        "\n",
        "A = np.array([[11, 22, 33],\n",
        "              [44, 55, 66],\n",
        "              [77, 88, 99]])\n",
        "\n",
        "B = np.array([[8, 8, 7],\n",
        "              [0, 1, 4],\n",
        "              [2, 2, 0]])\n",
        "\n",
        "C = np.array([[3, 0, 1],\n",
        "              [6, 1, 2],\n",
        "              [1, 1, 0]])\n",
        "\n",
        "#(A * B) * C = A * (B * C)\n",
        "left = np.dot(np.dot(A, B), C)\n",
        "right = np.dot(A, np.dot(B, C))\n",
        "print(\"Left\",\"\\n\", left)\n",
        "print(\"Right\", \"\\n\", right)\n",
        "\n",
        "assert np.array_equal(left, right), \"Error\"\n",
        "print(\"Associative Property is true\")\n"
      ],
      "metadata": {
        "colab": {
          "base_uri": "https://localhost:8080/"
        },
        "id": "R9SdzzgtpmzW",
        "outputId": "2c1365fe-310d-4907-ea6e-ba66d52c09ba"
      },
      "execution_count": 44,
      "outputs": [
        {
          "output_type": "stream",
          "name": "stdout",
          "text": [
            "Left \n",
            " [[1683  341  506]\n",
            " [5214 1067 1562]\n",
            " [8745 1793 2618]]\n",
            "Right \n",
            " [[1683  341  506]\n",
            " [5214 1067 1562]\n",
            " [8745 1793 2618]]\n",
            "Associative Property is true\n"
          ]
        }
      ]
    },
    {
      "cell_type": "markdown",
      "source": [
        "Distributive Property"
      ],
      "metadata": {
        "id": "-chxU-8ZEZas"
      }
    },
    {
      "cell_type": "code",
      "source": [
        "import numpy as np\n",
        "\n",
        "A = np.array([[0, 2, 3],\n",
        "              [5, 5, 6],\n",
        "              [1, 7, 19]])\n",
        "\n",
        "B = np.array([[1, 2, 3],\n",
        "              [6, 5, 4],\n",
        "              [9, 8, 7]])\n",
        "\n",
        "C = np.array([[5, 4, 3],\n",
        "              [2, 1, 0],\n",
        "              [6, 7, 8]])\n",
        "\n",
        "#A * (B + C) = A * B + A * C\n",
        "left = np.dot(A, (B + C))\n",
        "right = np.dot(A, B) + np.dot(A, C)\n",
        "print(\"Left\",\"\\n\", left)\n",
        "print(\"Right\", \"\\n\", right)\n",
        "\n",
        "assert np.array_equal(left, right), \"Error\"\n",
        "print(\"Distributive Property is true\")\n"
      ],
      "metadata": {
        "colab": {
          "base_uri": "https://localhost:8080/"
        },
        "id": "WEkv1lWT-MCp",
        "outputId": "3c78ba7f-4361-4a4e-dd5b-ed1519de301f"
      },
      "execution_count": 45,
      "outputs": [
        {
          "output_type": "stream",
          "name": "stdout",
          "text": [
            "Left \n",
            " [[ 61  57  53]\n",
            " [160 150 140]\n",
            " [347 333 319]]\n",
            "Right \n",
            " [[ 61  57  53]\n",
            " [160 150 140]\n",
            " [347 333 319]]\n",
            "Distributive Property is true\n"
          ]
        }
      ]
    },
    {
      "cell_type": "markdown",
      "source": [
        "Closure Property"
      ],
      "metadata": {
        "id": "kAnwf5K0Et9o"
      }
    },
    {
      "cell_type": "code",
      "source": [
        "import numpy as np\n",
        "\n",
        "A = np.array([[1, 2, 3],\n",
        "              [4, 5, 6],\n",
        "              [7, 8, 9]])\n",
        "\n",
        "B = np.array([[9, 0, 9],\n",
        "              [7, 1, 4],\n",
        "              [3, 3, 1]])\n",
        "\n",
        "#The result of the matrix multiplication is also a matrix\n",
        "result = np.dot(A, B)\n",
        "print(result)\n",
        "\n",
        "assert result.shape == (3, 3), \"Error\"\n",
        "print(\"Closure Property is true\")\n"
      ],
      "metadata": {
        "colab": {
          "base_uri": "https://localhost:8080/"
        },
        "id": "DCwiNOyh-MP1",
        "outputId": "ef64c613-d1b7-45e4-9b7b-452b8e0a7685"
      },
      "execution_count": 46,
      "outputs": [
        {
          "output_type": "stream",
          "name": "stdout",
          "text": [
            "[[ 32  11  20]\n",
            " [ 89  23  62]\n",
            " [146  35 104]]\n",
            "Closure Property is true\n"
          ]
        }
      ]
    },
    {
      "cell_type": "markdown",
      "source": [
        "Identity Property"
      ],
      "metadata": {
        "id": "BI3nKq3DFJSG"
      }
    },
    {
      "cell_type": "code",
      "source": [
        "import numpy as np\n",
        "\n",
        "A = np.array([[11, 25, 3],\n",
        "              [4, 2, 61],\n",
        "              [7, 78, 49]])\n",
        "\n",
        "#A * I = A, where I is the identity matrix\n",
        "I = np.eye(3)\n",
        "identity = np.dot(A , I)\n",
        "print(identity)\n",
        "\n",
        "assert np.array_equal(identity, A), \"Error\"\n",
        "print(\"Identity Property is true\")\n"
      ],
      "metadata": {
        "colab": {
          "base_uri": "https://localhost:8080/"
        },
        "id": "lmUyfZ4R-MhL",
        "outputId": "3fa8ac9d-1ac7-42fc-8582-c190f130251d"
      },
      "execution_count": 47,
      "outputs": [
        {
          "output_type": "stream",
          "name": "stdout",
          "text": [
            "[[11. 25.  3.]\n",
            " [ 4.  2. 61.]\n",
            " [ 7. 78. 49.]]\n",
            "Identity Property is true\n"
          ]
        }
      ]
    },
    {
      "cell_type": "markdown",
      "source": [
        "Zero Property"
      ],
      "metadata": {
        "id": "arYnz0u8FL4v"
      }
    },
    {
      "cell_type": "code",
      "source": [
        "import numpy as np\n",
        "\n",
        "A = np.array([[1, 2, 3],\n",
        "              [4, 5, 6],\n",
        "              [7, 8, 9]])\n",
        "\n",
        "#A * 0 = 0, where 0 is the zero matrix\n",
        "matrix = np.zeros((3, 3))\n",
        "zero = np.dot(A, matrix)\n",
        "print(zero)\n",
        "\n",
        "assert np.array_equal(zero, matrix), \"Error\"\n",
        "print(\"Zero Property is true\")\n"
      ],
      "metadata": {
        "colab": {
          "base_uri": "https://localhost:8080/"
        },
        "id": "lpnA9C7G-Mqw",
        "outputId": "f706697c-c71b-4073-dfc9-659b80151365"
      },
      "execution_count": 48,
      "outputs": [
        {
          "output_type": "stream",
          "name": "stdout",
          "text": [
            "[[0. 0. 0.]\n",
            " [0. 0. 0.]\n",
            " [0. 0. 0.]]\n",
            "Zero Property is true\n"
          ]
        }
      ]
    },
    {
      "cell_type": "markdown",
      "source": [
        "Scalar Property"
      ],
      "metadata": {
        "id": "EWiSTWc3FP1k"
      }
    },
    {
      "cell_type": "code",
      "source": [
        "import numpy as np\n",
        "\n",
        "A = np.array([[13, 0, 2],\n",
        "              [8, 5, 6],\n",
        "              [74, 28, 1]])\n",
        "\n",
        "#k * (A * B) = (k * A) * B = A * (k * B)\n",
        "k = 2\n",
        "left = k * A\n",
        "right = A * k\n",
        "print(\"Left\",\"\\n\", left)\n",
        "print(\"Right\", \"\\n\", right)\n",
        "\n",
        "assert np.array_equal(left, right), \"Error\"\n",
        "print(\"Scalar Property is true\")\n"
      ],
      "metadata": {
        "colab": {
          "base_uri": "https://localhost:8080/"
        },
        "id": "QL2zh6Zm-Mye",
        "outputId": "806b44c2-3a8e-4f1f-82d1-fb895bf23a1f"
      },
      "execution_count": 49,
      "outputs": [
        {
          "output_type": "stream",
          "name": "stdout",
          "text": [
            "Left \n",
            " [[ 26   0   4]\n",
            " [ 16  10  12]\n",
            " [148  56   2]]\n",
            "Right \n",
            " [[ 26   0   4]\n",
            " [ 16  10  12]\n",
            " [148  56   2]]\n",
            "Scalar Property is true\n"
          ]
        }
      ]
    }
  ]
}