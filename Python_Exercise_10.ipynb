{
  "nbformat": 4,
  "nbformat_minor": 0,
  "metadata": {
    "colab": {
      "provenance": [],
      "authorship_tag": "ABX9TyMYFVEBu6fXqFXlsNmTBysI",
      "include_colab_link": true
    },
    "kernelspec": {
      "name": "python3",
      "display_name": "Python 3"
    },
    "language_info": {
      "name": "python"
    }
  },
  "cells": [
    {
      "cell_type": "markdown",
      "metadata": {
        "id": "view-in-github",
        "colab_type": "text"
      },
      "source": [
        "<a href=\"https://colab.research.google.com/github/AndreiTugaoen/58013-Linear-Algebra/blob/main/Python_Exercise_10.ipynb\" target=\"_parent\"><img src=\"https://colab.research.google.com/assets/colab-badge.svg\" alt=\"Open In Colab\"/></a>"
      ]
    },
    {
      "cell_type": "code",
      "source": [
        "import numpy as np\n",
        "\n",
        "X = np.array([\n",
        "    [1,1,1],\n",
        "    [3,-2,-1],\n",
        "    [-1,4,2]\n",
        "], dtype=float)\n",
        "Y = np.array([\n",
        "    [1],\n",
        "    [4],\n",
        "    [-3]\n",
        "],dtype=float)\n",
        "print(X)\n",
        "print(X.shape)\n",
        "print(Y)\n",
        "print(Y.shape)"
      ],
      "metadata": {
        "colab": {
          "base_uri": "https://localhost:8080/"
        },
        "id": "doeXMk0cTrcn",
        "outputId": "3257ee3c-ee92-464c-a378-7e6990f9c3ba"
      },
      "execution_count": 3,
      "outputs": [
        {
          "output_type": "stream",
          "name": "stdout",
          "text": [
            "[[ 1.  1.  1.]\n",
            " [ 3. -2. -1.]\n",
            " [-1.  4.  2.]]\n",
            "(3, 3)\n",
            "[[ 1.]\n",
            " [ 4.]\n",
            " [-3.]]\n",
            "(3, 1)\n"
          ]
        }
      ]
    },
    {
      "cell_type": "code",
      "source": [
        "#Coding Activity 10\n",
        "import numpy as np\n",
        "\n",
        "coef = np.array([[30, 10, 120],\n",
        "                         [40, 20, 200],\n",
        "                         [50, 40, 360]])\n",
        "\n",
        "const = np.array([12500, 18000, 25700])\n",
        "\n",
        "\n",
        "F_price, Y_price, E_price = np.linalg.solve(coef, const)\n",
        "\n",
        "print(f\"The price of one sack of flour is {F_price:.2f} pesos.\")\n",
        "print(f\"The price of one pack of yeast is {Y_price:.2f} pesos.\")\n",
        "print(f\"The price of one egg is {E_price:.2f} pesos.\")"
      ],
      "metadata": {
        "colab": {
          "base_uri": "https://localhost:8080/"
        },
        "id": "dMMJx2ygUeym",
        "outputId": "dc02efe4-6de7-4ead-c90f-2a6cef1bf95e"
      },
      "execution_count": 5,
      "outputs": [
        {
          "output_type": "stream",
          "name": "stdout",
          "text": [
            "The price of one sack of flour is 330.00 pesos.\n",
            "The price of one pack of yeast is 140.00 pesos.\n",
            "The price of one egg is 10.00 pesos.\n"
          ]
        }
      ]
    }
  ]
}