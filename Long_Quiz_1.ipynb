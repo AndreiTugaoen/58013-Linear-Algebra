{
  "nbformat": 4,
  "nbformat_minor": 0,
  "metadata": {
    "colab": {
      "provenance": [],
      "authorship_tag": "ABX9TyPH9hwj8ie/bWXllzjLeayT",
      "include_colab_link": true
    },
    "kernelspec": {
      "name": "python3",
      "display_name": "Python 3"
    },
    "language_info": {
      "name": "python"
    }
  },
  "cells": [
    {
      "cell_type": "markdown",
      "metadata": {
        "id": "view-in-github",
        "colab_type": "text"
      },
      "source": [
        "<a href=\"https://colab.research.google.com/github/AndreiTugaoen/58013-Linear-Algebra/blob/main/Long_Quiz_1.ipynb\" target=\"_parent\"><img src=\"https://colab.research.google.com/assets/colab-badge.svg\" alt=\"Open In Colab\"/></a>"
      ]
    },
    {
      "cell_type": "markdown",
      "source": [
        "Problem 1"
      ],
      "metadata": {
        "id": "5mpebiU2lok5"
      }
    },
    {
      "cell_type": "code",
      "execution_count": 18,
      "metadata": {
        "colab": {
          "base_uri": "https://localhost:8080/"
        },
        "id": "0JRk9wqSfLwg",
        "outputId": "69491887-a295-4117-e673-aeb6d12631e6"
      },
      "outputs": [
        {
          "output_type": "stream",
          "name": "stdout",
          "text": [
            "a: AB\n",
            "[[22 28]\n",
            " [49 64]]\n",
            "\n",
            "b: D + D\n",
            "[[2 4]\n",
            " [6 8]]\n",
            "\n",
            "c: 2C\n",
            "[[ 2  4  6]\n",
            " [ 8 10 12]\n",
            " [14 16 18]]\n"
          ]
        }
      ],
      "source": [
        "import numpy as np\n",
        "\n",
        "A = np.array([[1, 2, 3], [4, 5, 6]])\n",
        "B = np.array([[1, 2], [3, 4], [5, 6]])\n",
        "C = np.array([[1, 2, 3], [4, 5, 6], [7, 8, 9]])\n",
        "D = np.array([[1, 2], [3, 4]])\n",
        "\n",
        "#a: AB\n",
        "#Print the result for a\n",
        "a = np.dot(A, B)\n",
        "print(\"a: AB\")\n",
        "print(a)\n",
        "\n",
        "#b: D + D\n",
        "#Print the result for b\n",
        "b = D + D\n",
        "print(\"\\nb: D + D\")\n",
        "print(b)\n",
        "\n",
        "#c: 2C\n",
        "#Print the result for c\n",
        "c = 2 * C\n",
        "print(\"\\nc: 2C\")\n",
        "print(c)"
      ]
    },
    {
      "cell_type": "markdown",
      "source": [
        "Problem 2"
      ],
      "metadata": {
        "id": "oQjQbH8Nlymz"
      }
    },
    {
      "cell_type": "code",
      "source": [
        "A = [2, 7, 4]\n",
        "B = [3, 9, 8]\n",
        "\n",
        "#Computing for the cross-product manually\n",
        "Cross = [A[1] * B[2] - A[2] * B[1],\n",
        "          A[2] * B[0] - A[0] * B[2],\n",
        "          A[0] * B[1] - A[1] * B[0]]\n",
        "\n",
        "print(\"The cross product of A and B is:\")\n",
        "print(Cross)"
      ],
      "metadata": {
        "colab": {
          "base_uri": "https://localhost:8080/"
        },
        "id": "wE20Jmzpnvm6",
        "outputId": "85ab5043-c155-4c73-cc7c-4d9d746f3461"
      },
      "execution_count": 20,
      "outputs": [
        {
          "output_type": "stream",
          "name": "stdout",
          "text": [
            "The cross product of A and B is:\n",
            "[20, -4, -3]\n"
          ]
        }
      ]
    }
  ]
}